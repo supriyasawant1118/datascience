{
 "cells": [
  {
   "cell_type": "code",
   "execution_count": 1,
   "id": "cd292f96",
   "metadata": {},
   "outputs": [
    {
     "name": "stdout",
     "output_type": "stream",
     "text": [
      "My name is Supriya Sawant\n"
     ]
    }
   ],
   "source": [
    "a=\"My name is Supriya Sawant\"\n",
    "print(a)"
   ]
  },
  {
   "cell_type": "code",
   "execution_count": 4,
   "id": "c0075d2d",
   "metadata": {},
   "outputs": [
    {
     "name": "stdout",
     "output_type": "stream",
     "text": [
      "Welcome to data science world\n"
     ]
    }
   ],
   "source": [
    "data= \"Welcome to data science world\"\n",
    "print(data)"
   ]
  },
  {
   "cell_type": "code",
   "execution_count": null,
   "id": "ab49193d",
   "metadata": {},
   "outputs": [],
   "source": [
    "data= \"Welcome to data science world\""
   ]
  },
  {
   "cell_type": "code",
   "execution_count": 5,
   "id": "000336fc",
   "metadata": {},
   "outputs": [
    {
     "data": {
      "text/plain": [
       "'Welcome to data science world'"
      ]
     },
     "execution_count": 5,
     "metadata": {},
     "output_type": "execute_result"
    }
   ],
   "source": [
    "data"
   ]
  },
  {
   "cell_type": "code",
   "execution_count": 6,
   "id": "ab2adfd4",
   "metadata": {},
   "outputs": [
    {
     "data": {
      "text/plain": [
       "'Welcome to data science world'"
      ]
     },
     "execution_count": 6,
     "metadata": {},
     "output_type": "execute_result"
    }
   ],
   "source": [
    "data"
   ]
  },
  {
   "cell_type": "code",
   "execution_count": 16,
   "id": "fbf48813",
   "metadata": {},
   "outputs": [
    {
     "name": "stdout",
     "output_type": "stream",
     "text": [
      "19\n"
     ]
    }
   ],
   "source": [
    "print (10+9)"
   ]
  },
  {
   "cell_type": "code",
   "execution_count": 12,
   "id": "8da9ee6a",
   "metadata": {},
   "outputs": [
    {
     "name": "stdout",
     "output_type": "stream",
     "text": [
      "2\n"
     ]
    }
   ],
   "source": [
    "print (26-24)"
   ]
  },
  {
   "cell_type": "code",
   "execution_count": 13,
   "id": "f538d097",
   "metadata": {},
   "outputs": [],
   "source": [
    "Data= \"My name is Supriya Sawant\""
   ]
  },
  {
   "cell_type": "code",
   "execution_count": 14,
   "id": "bb6dacfe",
   "metadata": {},
   "outputs": [
    {
     "data": {
      "text/plain": [
       "'My name is Supriya Sawant'"
      ]
     },
     "execution_count": 14,
     "metadata": {},
     "output_type": "execute_result"
    }
   ],
   "source": [
    "Data"
   ]
  },
  {
   "cell_type": "code",
   "execution_count": 28,
   "id": "c42b6b81",
   "metadata": {},
   "outputs": [
    {
     "name": "stdout",
     "output_type": "stream",
     "text": [
      "Supriya Pankaj Sawant\n"
     ]
    }
   ],
   "source": [
    "Fullname= \"Supriya Pankaj Sawant\"\n",
    "print(Fullname)"
   ]
  },
  {
   "cell_type": "code",
   "execution_count": 23,
   "id": "3d6e12cc",
   "metadata": {},
   "outputs": [
    {
     "data": {
      "text/plain": [
       "'Welcome to data science world'"
      ]
     },
     "execution_count": 23,
     "metadata": {},
     "output_type": "execute_result"
    }
   ],
   "source": [
    "data"
   ]
  },
  {
   "cell_type": "code",
   "execution_count": 24,
   "id": "18cc739c",
   "metadata": {},
   "outputs": [
    {
     "data": {
      "text/plain": [
       "'My name is Supriya Sawant'"
      ]
     },
     "execution_count": 24,
     "metadata": {},
     "output_type": "execute_result"
    }
   ],
   "source": [
    "Data"
   ]
  },
  {
   "cell_type": "code",
   "execution_count": null,
   "id": "baaad9c0",
   "metadata": {},
   "outputs": [],
   "source": []
  }
 ],
 "metadata": {
  "kernelspec": {
   "display_name": "Python 3 (ipykernel)",
   "language": "python",
   "name": "python3"
  },
  "language_info": {
   "codemirror_mode": {
    "name": "ipython",
    "version": 3
   },
   "file_extension": ".py",
   "mimetype": "text/x-python",
   "name": "python",
   "nbconvert_exporter": "python",
   "pygments_lexer": "ipython3",
   "version": "3.10.9"
  }
 },
 "nbformat": 4,
 "nbformat_minor": 5
}
